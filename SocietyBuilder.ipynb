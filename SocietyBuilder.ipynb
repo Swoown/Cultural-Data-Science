{
 "cells": [
  {
   "cell_type": "markdown",
   "id": "e7b6527c-4469-4129-bb24-56af0b12eb91",
   "metadata": {},
   "source": [
    "# Society Builder 1.0\n",
    "An idea for a creative subliment to the creative process of creating an imagined society."
   ]
  },
  {
   "cell_type": "code",
   "execution_count": null,
   "id": "232bcda5-4cc6-4863-8aa6-04d27290013c",
   "metadata": {},
   "outputs": [],
   "source": [
    "#vairables\n",
    "#General concepts\n",
    "time = \"The understanding of the passing of time and seasons, the significance given to time as a valuable and limited resource.\"\n",
    "death = \"The perception of loss and death, and what is signifies for the way we live.\"\n",
    "life = \"The way we understand life and its value in the world.\"\n",
    "gender = \"The understanding of gender and its importance for the individual, the idea of physiology and psycology's interplay regarding gender.\"\n",
    "change = \"The understanding of what change signifies, the perception of change as a developing or distruptive force.\"\n",
    "\n",
    "#Concepts and entities related to nature\n",
    "nature = \"The understanding of human and nature's relationship, the value assigned to preserving natural environments.\"\n",
    "seasons = \"The way seasons inform ones understanding of the world, the role seasons play on the structure of society.\"\n",
    "sea = \"The values and ideas connected to the sea, seafaring and other sea-related concepts, the understanding of the sea as a positive or negative influence/power.\"\n",
    "animals = \"The percieved usefulness, value, humanity and cleanliness of (domestic) animals, the general perception of any non-human living creature.\"\n",
    "\n",
    "#Concepts and ideas related to inter-personal relations and the idea of a community\n",
    "community = \"The understanding of a community's role and place in the lives of its members, the idea of obligations members have towards the group or the group to its members, the form of the power-structure and its defining elements.\"\n",
    "collective = \"The understanding of the members of a community's inter-personal relationship and norm-dictated behaviour, the general attitude towards sharing and helping other members and the perception of individuals not partaking in collective support-actions.\"\n",
    "individuals_and_communities = \"The understanding of individual's right to self-improving endeavours and obligations to their community, the relationship between individual and collective.\"\n",
    "\n",
    "#Concepts relating to the power-structure and general relationship in the close relations ie family and close community\n",
    "human_life = \"The understanding of the value a human life has, the possible sanctity of human life or monetary value.\"\n",
    "family_structure = \"The norms related to powerstructure and hieararchy in a family, each member's duty and position in the structure, distribution and heritage of objects and valuables.\"\n",
    "parenthood = \"The understanding of parents obligation to their children, the norm-expected behaviour of a parent, the power a parent has over their child(ren).\"\n",
    "filial_piety = \"The preception of a child's obligation, debt or expected gratitude towards their parents, the expected power-structure between child and parent, the degree of children's self-govornance in relation to their parents.\"\n",
    "tradition = \"The importance igen to traditions from previous generations, the general support or dsimissal of habits from previous generations.\"\n",
    "\n",
    "#Concepts regarding personal values and characteristics\n",
    "honor = \"The understanding of honor as a concept and its importance to social standing.\"\n",
    "wisdom = \"The importance given to individual's knowledge or experience in general/in a specific case.\"\n",
    "skill = \"The percieved importance and value of practical skills, the position of a skill-defined vocation or individual, the value of physical labour.\"\n",
    "age = \"The importance given to an individuals age in their societal status, the percieved value of age in ones importance to the community.\"\n",
    "physical_apperance = \"The value given to an individual's percieved beauty or physical atrractiveness, the personal characteristics associated with beauty and ugliness in a given community or society.\" \n",
    "strength_and_weakness = \"The ideas regarding descrepancies between the weak and strong, what ones position means for obligations or power in a society.\"\n",
    "pride_and_humility = \"The perception of prideful/modest behaviour and personal self-satisfaction/self-deprication, what effect is has on the perception of ones character.\"\n",
    "acts_and_intentions = \"The judgement of the quality of an individual when considering their actions and the intentions, how the relation between action and intention is percieved and which might be given more importance.\" \n",
    "\n",
    "#Concepts related to conflicts and exchanges\n",
    "war = \"The general sentiment towards aggressive actions towards other groups, the sentiments related to performing war-associated actions.\"\n",
    "trade = \"The perception of exchanging good or services, attitude towards people engaging in trade.\"\n",
    "ownership = \"The understanding of belonging and personal claim to items, people or ideas.\""
   ]
  }
 ],
 "metadata": {
  "kernelspec": {
   "display_name": "Python 3 ",
   "language": "python",
   "name": "python3"
  },
  "language_info": {
   "codemirror_mode": {
    "name": "ipython",
    "version": 3
   },
   "file_extension": ".py",
   "mimetype": "text/x-python",
   "name": "python",
   "nbconvert_exporter": "python",
   "pygments_lexer": "ipython3",
   "version": "3.10.14"
  }
 },
 "nbformat": 4,
 "nbformat_minor": 5
}
